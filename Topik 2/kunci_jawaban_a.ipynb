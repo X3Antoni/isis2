{
 "cells": [
  {
   "cell_type": "markdown",
   "metadata": {},
   "source": [
    "# Kunci Jawaban Soal Praktikum A\n",
    "## Isyarat dan Sistem 2\n",
    "### Topik 2 - Pencuplikan"
   ]
  },
  {
   "cell_type": "markdown",
   "metadata": {},
   "source": [
    "---\n",
    "# Daftar Isi\n",
    "1. Pencuplikan Sinyal Sinusoidal\n",
    "2. Pencuplikan Sinyal Chirp"
   ]
  },
  {
   "cell_type": "markdown",
   "metadata": {},
   "source": [
    "---\n",
    "# I. Pencuplikan Sinyal Sinusoidal"
   ]
  },
  {
   "cell_type": "markdown",
   "metadata": {},
   "source": [
    "# Nomor 1\n",
    "Sebuah sinyal $x(t)$ didefinisikan sebagai\n",
    "\n",
    "$$ x(t) = 1 + \\cos(2000\\pi t) + \\cos(4000\\pi t) $$\n",
    "\n",
    "Kita perhatikan bahwa frekuensi fundamental tertinggi sinyal tersebut adalah $4000\\pi\\;\\text{rad/s}$. Sehingga, frekuensi pencuplikan $\\omega_s$ harus dua kali lebih besar dari itu\n",
    "\n",
    "$$ \\omega_s > 8000\\pi\\;\\text{rad/s} $$"
   ]
  },
  {
   "cell_type": "markdown",
   "metadata": {},
   "source": [
    "# Nomor 2\n",
    "Berikut ini adalah plot $x(t)$ yang dicuplik dengan $\\omega_s = 10000\\pi\\;\\text{rad/s}$."
   ]
  },
  {
   "cell_type": "code",
   "execution_count": null,
   "metadata": {
    "collapsed": false
   },
   "outputs": [],
   "source": [
    "syms x1 t\n",
    "x1 = 1 + cos(2000*pi*t) + cos(4000*pi*t);\n",
    "fplot(x1);\n",
    "hold on;\n",
    "\n",
    "ws = 10000*pi;\n",
    "fs = ws/(2*pi);\n",
    "T = 1/fs;\n",
    "n = 0 : fs-1;\n",
    "t = n*T;\n",
    "x2 = 1 + cos(2000*pi*t) + cos(4000*pi*t);\n",
    "hold on;\n",
    "stem(t, x2);\n",
    "axis([0 0.004 -1 3]);"
   ]
  },
  {
   "cell_type": "markdown",
   "metadata": {},
   "source": [
    "Perhatikan pada _source code_ di atas! Di situ terdapat dua buah variabel `x1` dan `x2`. Hasil pencuplikan yang sebenarnya terdapat pada variabel `x2`, sementara `x1` hanya sebagai perbandingan saja."
   ]
  },
  {
   "cell_type": "markdown",
   "metadata": {},
   "source": [
    "# Nomor 3\n",
    "Efek bunyinya adalah seperti bunyi beep yang panjang durasinya sekitar 1 detik."
   ]
  },
  {
   "cell_type": "code",
   "execution_count": null,
   "metadata": {
    "collapsed": true
   },
   "outputs": [],
   "source": [
    "sound(x2, fs);"
   ]
  },
  {
   "cell_type": "markdown",
   "metadata": {},
   "source": [
    "# Nomor 4\n",
    "Sebelumnya, kita akan menggunakan fungsi `ctfts()` untuk melakukan transformasi Fourier terhadap sinyal $x(t)$. Berikut ini adalah _source code_-nya.\n",
    "\n",
    "```matlab\n",
    "function [X, w] = ctfs(x,T)\n",
    "% CTFTS calculates the continuous-time Fourier transform (CTFT) of a\n",
    "% periodic signal x(t) which is reconstructed from the samples in the\n",
    "% vector x using ideal bandlimited interpolation. The vector x contains\n",
    "% samples if x(t) over an integer number of periods, and T contains the\n",
    "% sampling period.\n",
    "%\n",
    "% The vector X contains the area of the impulses at the frequency values\n",
    "% stored in the vector w.\n",
    "%\n",
    "% This function makes use of the relationship between the CTFT of x(t) and\n",
    "% the DTFT of its samples x[n], as well as the relationship between the\n",
    "% DTFT of the samples x[n] and the DTFS of x[n].\n",
    "N = length(x);\n",
    "X = fftshift(fft(x,N))*(2*pi/N);\n",
    "w = 2*pi*linspace(-1,1-1/N,N)/(2*T);\n",
    "```"
   ]
  },
  {
   "cell_type": "code",
   "execution_count": null,
   "metadata": {
    "collapsed": false
   },
   "outputs": [],
   "source": [
    "[X, w] = ctfs(x2, T);\n",
    "X_magnitude = abs(X);\n",
    "X_phase = angle(X);\n",
    "\n",
    "subplot(2,1,1); \n",
    "plot(w, X_magnitude); \n",
    "title('Magnitude'); \n",
    "xlabel('Frekuensi (rad/s)'); \n",
    "ylabel('|X(j\\omega)|');\n",
    "\n",
    "subplot(2,1,2); \n",
    "plot(w, rad2deg(X_phase)); \n",
    "title('Phase'); \n",
    "xlabel('Frekuensi (rad/s)'); \n",
    "ylabel('\\angle X(j\\omega)');"
   ]
  },
  {
   "cell_type": "markdown",
   "metadata": {},
   "source": [
    "Agar tercuplik dengan baik maka kita harus membuat filter _band-pass_ yang mampu mencakup seluruh impulse tersebut!. Cara yang paling cepat untuk membuat filter adalah dengan menggunakan filter Butterworth. Baca kembali buku ISIS 2 untuk keterangan lebih lanjut mengenai filter Butterworth."
   ]
  },
  {
   "cell_type": "code",
   "execution_count": null,
   "metadata": {
    "collapsed": false
   },
   "outputs": [],
   "source": [
    "wc = 1.5*10^4;\n",
    "fc = wc/(2*pi);\n",
    "n = 10;\n",
    "[b, a] = butter(n, fc/(fs/2));\n",
    "freqz(b, a); grid on;"
   ]
  },
  {
   "cell_type": "markdown",
   "metadata": {},
   "source": [
    "Sekarang, kita akan _feed_ `x2` ke dalam sistem tersebut."
   ]
  },
  {
   "cell_type": "code",
   "execution_count": null,
   "metadata": {
    "collapsed": false
   },
   "outputs": [],
   "source": [
    "y = lsim(b, a, x2, t);\n",
    "fplot(x1); hold on;\n",
    "plot(t, y);\n",
    "stem(t, y);\n",
    "axis([0 0.004 -1 3]);"
   ]
  },
  {
   "cell_type": "code",
   "execution_count": null,
   "metadata": {
    "collapsed": false
   },
   "outputs": [],
   "source": [
    "[Y, w] = ctfs(y, T);\n",
    "Y_magnitude = abs(Y);\n",
    "Y_phase = angle(Y);\n",
    "\n",
    "subplot(2,1,1); \n",
    "plot(w, Y_magnitude); \n",
    "title('Magnitude'); \n",
    "xlabel('Frekuensi (rad/s)'); \n",
    "ylabel('|Y(j\\omega)|');\n",
    "\n",
    "subplot(2,1,2); \n",
    "plot(w, rad2deg(Y_phase)); \n",
    "title('Phase'); \n",
    "xlabel('Frekuensi (rad/s)'); \n",
    "ylabel('\\angle Y(j\\omega)');"
   ]
  },
  {
   "cell_type": "markdown",
   "metadata": {},
   "source": [
    "# Nomor 5\n"
   ]
  },
  {
   "cell_type": "markdown",
   "metadata": {},
   "source": [
    "Kurang lebih efek bunyi `y` sama seperti `x2`. Namun untuk bunyi `y` terdengar sedikit lebih lemah dibandingkan bunyi `x2`."
   ]
  },
  {
   "cell_type": "code",
   "execution_count": null,
   "metadata": {
    "collapsed": true
   },
   "outputs": [],
   "source": [
    "sound(y, fs);"
   ]
  },
  {
   "cell_type": "markdown",
   "metadata": {},
   "source": [
    "# Nomor 6"
   ]
  },
  {
   "cell_type": "markdown",
   "metadata": {},
   "source": [
    "Jika kita melihat plot `x2` dan `y` versus waktu, maka kita perhatikan bahwa sebenarnya sinyal `y` sedikit mengalami atenuasi. Artinya, filter Butterworth itu sendiri tidak seideal yang kita kira. Dengan menambah orde filter tentu filter yang kita rancang akan semakin mendekati ideal.\n",
    "\n",
    "Kemudian, jika kita melihat plot Bode `x2` dan `y`, maka letak impulse tanggapan frekuensi-nya tidak berubah, itu berarti filter yang kita rancang berhasil merekonstruksi sinyal `x2`. Sekali lagi, kita perhatikan bahwa memang besar magnitude impulse `y` sedikit lebih kecil dibandingkan magnitude impulse `x2`.\n",
    "\n",
    "Hal ini tentu mempertegas kembali hasil nomor 5, yang dimana bunyi `y` sedikit lebih lemah dibandingkan bunyai `x2`. (Ini hanya bersifat intuitif, jika kalian tidak mendengar perbedaannya... _it's okay_)."
   ]
  },
  {
   "cell_type": "markdown",
   "metadata": {},
   "source": [
    "# Nomor 7\n",
    "Sinyal $x(t)$ jelas bukan pita-terbatas. Mari kita cek tanggapan frekuensinya."
   ]
  },
  {
   "cell_type": "code",
   "execution_count": null,
   "metadata": {
    "collapsed": false
   },
   "outputs": [],
   "source": [
    "ws = 100*pi;\n",
    "fs = ws/(2*pi);\n",
    "T = 1/fs;\n",
    "n = 0 : fs-1;\n",
    "t = n*T;\n",
    "x = exp(-2*t);\n",
    "\n",
    "[X, w] = ctfs(x, T);\n",
    "X_magnitude = abs(X);\n",
    "X_phase = angle(X);\n",
    "\n",
    "subplot(2,1,1); \n",
    "plot(w, X_magnitude); \n",
    "title('Magnitude'); \n",
    "xlabel('Frekuensi (rad/s)'); \n",
    "ylabel('|X(j\\omega)|');\n",
    "\n",
    "subplot(2,1,2); \n",
    "plot(w, rad2deg(X_phase)); \n",
    "title('Phase'); \n",
    "xlabel('Frekuensi (rad/s)'); \n",
    "ylabel('\\angle X(j\\omega)');"
   ]
  },
  {
   "cell_type": "markdown",
   "metadata": {},
   "source": [
    "Perhatikan bahwa \"kelihatannya\" seperti pita terbatas, namun sebenarnya tidak! Hal ini dikarenakan, untuk mencapai $|X(j\\omega)| = 0 $ maka kita harus atur $\\omega \\rightarrow \\infty$!\n",
    "\n",
    "Itu berarti, kita tidak bisa merekonstruksi sinyal tersebut seutuhnya (ada sebagian informasi yang hilang). "
   ]
  },
  {
   "cell_type": "markdown",
   "metadata": {},
   "source": [
    "# Nomor 8\n",
    "Persamaan yang diberikan di soal hanya berupa perkiraan. Artinya, kita akan hendak mencuplik sinyal tersebut namun setidaknya hanya 1% saja informasi yang hilang (informasi disini mengacu pada energi sinyal).\n",
    "\n",
    "$$ \\frac{0.99}{2\\pi}\\int^{\\infty}_{-\\infty}|X(j\\omega)|^2\\;d\\omega = \\frac{1}{2\\pi}\\int^{\\omega_M}_{-\\omega_M}|X(j\\omega)|^2\\;d\\omega $$\n",
    "\n",
    "$$ 0.99\\int^{\\infty}_{-\\infty}\\frac{1}{4+\\omega^2}\\;d\\omega = \\int^{\\omega_M}_{-\\omega_M} \\frac{1}{4+\\omega^2} \\;d\\omega $$\n",
    "\n",
    "$$ 0.99\\int^{\\infty}_{-\\infty} \\frac{1}{4}\\times\\frac{1}{1+\\left(\\frac{\\omega}{2}\\right)^2} \\;d\\omega = \\int^{\\omega_M}_{-\\omega_M} \\frac{1}{4}\\times\\frac{1}{1+\\left(\\frac{\\omega}{2}\\right)^2} \\;d\\omega $$\n",
    "\n",
    "$$ 0.99 \\left(\\arctan\\left(\\frac{\\infty}{2}\\right)-\\arctan\\left(\\frac{-\\infty}{2}\\right)\\right)  = \\left(\\arctan\\left(\\frac{\\omega_M}{2}\\right)-\\arctan\\left(\\frac{-\\omega_M}{2}\\right)\\right) $$\n",
    "\n",
    "$$ 0.99 \\arctan\\left(\\infty\\right)  = \\arctan\\left(\\frac{\\omega_M}{2}\\right) $$\n",
    "\n",
    "$$ 1.555 = \\arctan\\left(\\frac{\\omega_M}{2}\\right) $$\n",
    "\n",
    "$$ \\frac{\\omega_M}{2} = \\tan(1.555) $$\n",
    "\n",
    "$$ \\omega_M = 126.601\\;\\text{rad/s}$$\n",
    "\n",
    "Dengan demikian, kita perkirakan bahwa $\\omega_s$ paling tidak harus dua kali dari $\\omega_M$, atau dengan kata lain $\\omega_s > 253.202\\;\\text{rad/s}$."
   ]
  },
  {
   "cell_type": "markdown",
   "metadata": {
    "collapsed": true
   },
   "source": [
    "---\n",
    "# II. Pencuplikan Sinyal Chirp"
   ]
  },
  {
   "cell_type": "markdown",
   "metadata": {},
   "source": [
    "# Nomor 1\n",
    "\n",
    "$\\omega_{\\text{inst}}$ bernilai minimum pada saat $t \\rightarrow 0$.\n",
    "\n",
    "$$\\omega_{\\text{inst}} = \\omega_0 = 18.850\\;\\text{krad/s} $$\n",
    "\n",
    "$\\omega_{\\text{inst}}$ bernilai maksimum pada saat $t \\rightarrow 1$.\n",
    "\n",
    "$$\\omega_{\\text{inst}} = \\omega_0 +\\beta = 20.850\\;\\text{krad/s} $$"
   ]
  },
  {
   "cell_type": "markdown",
   "metadata": {},
   "source": [
    "# Nomor 2"
   ]
  },
  {
   "cell_type": "markdown",
   "metadata": {},
   "source": [
    "Agar tidak terjadi efek aliasing, kita atur agar $\\omega_s > 41.700\\;\\text{krad/s}$."
   ]
  },
  {
   "cell_type": "markdown",
   "metadata": {},
   "source": [
    "# Nomor 3\n",
    "Kita atur $\\omega_s = 50\\;\\text{krad/s}$."
   ]
  },
  {
   "cell_type": "code",
   "execution_count": null,
   "metadata": {
    "collapsed": false
   },
   "outputs": [],
   "source": [
    "syms x1 t\n",
    "x1 = sin(2*pi*3000*t + (2000/2)*t.^2);\n",
    "fplot(x1);\n",
    "hold on;\n",
    "\n",
    "ws = 50000;\n",
    "fs = ws/(2*pi);\n",
    "T = 1/fs;\n",
    "n = 0 : fs-1;\n",
    "t = n*T;\n",
    "x2 = sin(2*pi*3000*t + (2000/2)*t.^2);\n",
    "hold on;\n",
    "stem(t, x2);\n",
    "axis([0 0.004 -1 1]);"
   ]
  },
  {
   "cell_type": "code",
   "execution_count": null,
   "metadata": {
    "collapsed": false
   },
   "outputs": [],
   "source": [
    "[X, w] = ctfs(x2, T);\n",
    "X_magnitude = abs(X);\n",
    "X_phase = angle(X);\n",
    "\n",
    "subplot(2,1,1); \n",
    "plot(w, X_magnitude); \n",
    "title('Magnitude'); \n",
    "xlabel('Frekuensi (rad/s)'); \n",
    "ylabel('|X(j\\omega)|');\n",
    "\n",
    "subplot(2,1,2); \n",
    "plot(w, rad2deg(X_phase)); \n",
    "title('Phase'); \n",
    "xlabel('Frekuensi (rad/s)'); \n",
    "ylabel('\\angle X(j\\omega)');"
   ]
  },
  {
   "cell_type": "markdown",
   "metadata": {},
   "source": [
    "# Nomor 4\n",
    "Efek bunyinya adalah seperti bunyi beep yang memiliki durasi sekitar 1 detik, dan seolah-olah semakin lama suaranya semakin keras."
   ]
  },
  {
   "cell_type": "code",
   "execution_count": null,
   "metadata": {
    "collapsed": true
   },
   "outputs": [],
   "source": [
    "sound(x2, fs);"
   ]
  },
  {
   "cell_type": "markdown",
   "metadata": {},
   "source": [
    "# Nomor 5\n",
    "Kita atur $\\omega_x = 30\\;\\text{krad/s}$."
   ]
  },
  {
   "cell_type": "code",
   "execution_count": null,
   "metadata": {
    "collapsed": false
   },
   "outputs": [],
   "source": [
    "syms x1 t\n",
    "x1 = sin(2*pi*3000*t + (2000/2)*t.^2);\n",
    "fplot(x1);\n",
    "hold on;\n",
    "\n",
    "ws = 30000;\n",
    "fs = ws/(2*pi);\n",
    "T = 1/fs;\n",
    "n = 0 : fs-1;\n",
    "t = n*T;\n",
    "x2 = sin(2*pi*3000*t + (2000/2)*t.^2);\n",
    "hold on;\n",
    "stem(t, x2);\n",
    "axis([0 0.004 -1 1]);"
   ]
  },
  {
   "cell_type": "code",
   "execution_count": null,
   "metadata": {
    "collapsed": false
   },
   "outputs": [],
   "source": [
    "[X, w] = ctfs(x2, T);\n",
    "X_magnitude = abs(X);\n",
    "X_phase = angle(X);\n",
    "\n",
    "subplot(2,1,1); \n",
    "plot(w, X_magnitude); \n",
    "title('Magnitude'); \n",
    "xlabel('Frekuensi (rad/s)'); \n",
    "ylabel('|X(j\\omega)|');\n",
    "\n",
    "subplot(2,1,2); \n",
    "plot(w, rad2deg(X_phase)); \n",
    "title('Phase'); \n",
    "xlabel('Frekuensi (rad/s)'); \n",
    "ylabel('\\angle X(j\\omega)');"
   ]
  },
  {
   "cell_type": "markdown",
   "metadata": {},
   "source": [
    "# Nomor 6\n",
    "Efek bunyinya adalah seperti bunyi beep yang memiliki durasi sekitar 1 detik, dan seolah-olah semakin lama suaranya semakin rendah."
   ]
  },
  {
   "cell_type": "code",
   "execution_count": null,
   "metadata": {
    "collapsed": true
   },
   "outputs": [],
   "source": [
    "sound(x2, fs);"
   ]
  },
  {
   "cell_type": "markdown",
   "metadata": {},
   "source": [
    "# Nomor 7\n",
    "Secara intuitif berdasarkan bunyi-nya kita tahu bahwa untuk kasus undersampling bunyi-nya berbeda dengan kasus oversampling. Oleh karena sinyal tersebut memiliki frekuensi yang semakin tinggi, maka seharusnya bunyi yang kita dengar juga semakin tinggi suaranya (INTUITIF!).\n",
    "\n",
    "Jika kita perhatikan plot Bode, untuk kasus oversampling, memiliki nilai tak-nol terkonsentrasi pada frekuensi sekitar $20\\;\\text{krad/s}$, sementara pada kasus undersampling justru nilai tak-nol terkonsentrasi pada frekuensi sekitar $10\\;\\text{krad/s}$."
   ]
  }
 ],
 "metadata": {
  "anaconda-cloud": {},
  "kernelspec": {
   "display_name": "Matlab",
   "language": "matlab",
   "name": "matlab"
  },
  "language_info": {
   "codemirror_mode": "octave",
   "file_extension": ".m",
   "help_links": [
    {
     "text": "MetaKernel Magics",
     "url": "https://github.com/calysto/metakernel/blob/master/metakernel/magics/README.md"
    }
   ],
   "mimetype": "text/x-octave",
   "name": "matlab",
   "version": "0.11.0"
  }
 },
 "nbformat": 4,
 "nbformat_minor": 1
}
